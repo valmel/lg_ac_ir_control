{
 "cells": [
  {
   "cell_type": "code",
   "execution_count": 24,
   "id": "e5c88ca0",
   "metadata": {},
   "outputs": [],
   "source": [
    "import re"
   ]
  },
  {
   "cell_type": "code",
   "execution_count": 25,
   "id": "19284276",
   "metadata": {},
   "outputs": [
    {
     "name": "stdout",
     "output_type": "stream",
     "text": [
      "['pulse 3024', 'space 9534', 'pulse 483', 'space 1491', 'pulse 483', 'space 504', 'pulse 462', 'space 525', 'pulse 420', 'space 567', 'pulse 462', 'space 1512', 'pulse 483', 'space 504', 'pulse 483', 'space 504', 'pulse 462', 'space 525', 'pulse 441', 'space 1554', 'pulse 462', 'space 1533', 'pulse 462', 'space 504', 'pulse 483', 'space 504', 'pulse 483', 'space 504', 'pulse 462', 'space 504', 'pulse 441', 'space 546', 'pulse 462', 'space 525', 'pulse 462', 'space 504', 'pulse 483', 'space 504', 'pulse 483', 'space 504', 'pulse 462', 'space 504', 'pulse 420', 'space 567', 'pulse 462', 'space 1512', 'pulse 483', 'space 504', 'pulse 483', 'space 1512', 'pulse 483', 'space 504', 'pulse 441', 'space 546', 'pulse 462', 'space 525', 'pulse 462', 'space 1491', 'pulse 483']\n"
     ]
    }
   ],
   "source": [
    "def read_sequences_in(fname = None):\n",
    "    with open(fname, 'rt') as f_in:\n",
    "      text = f_in.read()\n",
    "      res = re.findall(r'(pulse.*)timeout', text, re.DOTALL)\n",
    "      lines = res[0].strip().split('\\n')  \n",
    "      return (lines)\n",
    "      #return text.split()  \n",
    "lines = read_sequences_in('out.txt')       \n",
    "print(lines)"
   ]
  },
  {
   "cell_type": "code",
   "execution_count": 26,
   "id": "19c28d2f",
   "metadata": {},
   "outputs": [],
   "source": [
    "def lines_to_commands(lines):\n",
    "    commands = []\n",
    "    com_raw_seq = []\n",
    "    for line in lines:\n",
    "        lst = line.split()\n",
    "        if (lst[0] != 'timeout'):\n",
    "            com_raw_seq = com_raw_seq + [lst[1]]\n",
    "        else:\n",
    "            commands.append(com_raw_seq)\n",
    "            com_raw_seq = []\n",
    "    commands.append(com_raw_seq)        \n",
    "    return commands\n",
    "        \n",
    "        \n",
    "commands = lines_to_commands(lines)    "
   ]
  },
  {
   "cell_type": "code",
   "execution_count": 27,
   "id": "c1b79c6c",
   "metadata": {},
   "outputs": [
    {
     "name": "stdout",
     "output_type": "stream",
     "text": [
      "        3024 9534 483 1491\n",
      "        483 504 462 525\n",
      "        420 567 462 1512\n",
      "        483 504 483 504\n",
      "        462 525 441 1554\n",
      "        462 1533 462 504\n",
      "        483 504 483 504\n",
      "        462 504 441 546\n",
      "        462 525 462 504\n",
      "        483 504 483 504\n",
      "        462 504 420 567\n",
      "        462 1512 483 504\n",
      "        483 1512 483 504\n",
      "        441 546 462 525\n",
      "        462 1491 483 \n",
      "\n",
      "\n"
     ]
    }
   ],
   "source": [
    "def print_commands(commands):\n",
    "    str = '        '\n",
    "    for command in commands:\n",
    "        for i, signal in enumerate(command):\n",
    "            str = str + f'{signal}'\n",
    "            if (i+1)%4 == 0:\n",
    "                str = str + '\\n        '\n",
    "            else:\n",
    "                str = str + ' '\n",
    "        str = str + '\\n\\n'\n",
    "    print(str)                        \n",
    "            \n",
    "print_commands(commands)"
   ]
  },
  {
   "cell_type": "code",
   "execution_count": null,
   "id": "6193f043",
   "metadata": {},
   "outputs": [],
   "source": []
  },
  {
   "cell_type": "code",
   "execution_count": null,
   "id": "27fb23c9",
   "metadata": {},
   "outputs": [],
   "source": []
  }
 ],
 "metadata": {
  "kernelspec": {
   "display_name": "Python 3 (ipykernel)",
   "language": "python",
   "name": "python3"
  },
  "language_info": {
   "codemirror_mode": {
    "name": "ipython",
    "version": 3
   },
   "file_extension": ".py",
   "mimetype": "text/x-python",
   "name": "python",
   "nbconvert_exporter": "python",
   "pygments_lexer": "ipython3",
   "version": "3.10.12"
  }
 },
 "nbformat": 4,
 "nbformat_minor": 5
}
